{
 "cells": [
  {
   "cell_type": "markdown",
   "metadata": {},
   "source": [
    "<img src=\"grandstand.jpg\">"
   ]
  },
  {
   "cell_type": "markdown",
   "metadata": {},
   "source": [
    "# Risk Portfolio Management Program : Golden Gate Fields"
   ]
  },
  {
   "cell_type": "code",
   "execution_count": 2,
   "metadata": {},
   "outputs": [],
   "source": [
    "from IPython.display import display\n",
    "import numpy as np\n",
    "import matplotlib.pyplot as plt\n",
    "import pandas as pd\n",
    "from math import sin, cos, sqrt, atan2, radians\n",
    "import seaborn as sns\n",
    "import lightgbm as lgb\n",
    "from sklearn.decomposition import PCA\n",
    "from sklearn.cluster import DBSCAN\n",
    "from sklearn.cluster import SpectralClustering\n",
    "from sklearn.cluster import MeanShift\n",
    "from sklearn.cluster import MiniBatchKMeans\n",
    "from sklearn.model_selection import train_test_split\n",
    "\n",
    "from bs4 import BeautifulSoup\n",
    "import requests \n",
    "import urllib.request\n",
    "\n",
    "from sklearn import metrics\n",
    "from sklearn.preprocessing import StandardScaler\n",
    "from sklearn.preprocessing import Normalizer\n",
    "\n",
    "%matplotlib inline\n",
    "\n",
    "import warnings\n",
    "warnings.filterwarnings(\"ignore\")"
   ]
  },
  {
   "cell_type": "markdown",
   "metadata": {},
   "source": [
    "# scraping from Iframe"
   ]
  },
  {
   "cell_type": "code",
   "execution_count": 150,
   "metadata": {},
   "outputs": [],
   "source": [
    "from selenium import webdriver"
   ]
  },
  {
   "cell_type": "code",
   "execution_count": 153,
   "metadata": {},
   "outputs": [],
   "source": [
    "session = webdriver.PhantomJS()\n",
    "session.close()"
   ]
  },
  {
   "cell_type": "code",
   "execution_count": 170,
   "metadata": {},
   "outputs": [],
   "source": [
    "article_list = []\n",
    "    \n",
    "driver =  webdriver.PhantomJS()\n",
    "    \n",
    "driver.get(\"http://www.drf.com/race-entries/track/GG/country/USA/date/04-15-2018?header=N\")"
   ]
  },
  {
   "cell_type": "code",
   "execution_count": 171,
   "metadata": {},
   "outputs": [
    {
     "name": "stdout",
     "output_type": "stream",
     "text": [
      "RACE INFO\n",
      "ANALYSIS & PICKS\n",
      "CLOSER LOOKS\n",
      "# PP ODDS HORSE\n",
      "\n",
      "(Last 3 Beyers)\n",
      "JOCKEY\n",
      "Weight\n",
      "TRAINER CLAIM $ MED.\n",
      "1 1\n",
      "ML 15-1\n",
      "Tailored\n",
      "C. Herrera\n",
      "125 Lbs\n",
      "J. Aguilar $5,000 L\n",
      "2 2\n",
      "ML 2-1\n",
      "Call Me Soul\n",
      "F. Alvarado\n",
      "125 Lbs\n",
      "S. Ledezma $5,000 L\n",
      "3 3\n",
      "ML 7-5\n",
      "Capes Hot Rocket\n",
      "C. Martinez\n",
      "125 Lbs\n",
      "S. Calvario $5,000 L\n",
      "4 4\n",
      "ML 3-1\n",
      "He's Got Cause\n",
      "J. Couton\n",
      "125 Lbs\n",
      "L. Powell $5,000 FTL\n",
      "5 5\n",
      "ML 15-1\n",
      "Dorrington\n",
      "H. Herrera\n",
      "125 Lbs\n",
      "J. Bautista $5,000 L\n",
      "6 6\n",
      "ML 10-1\n",
      "Duke of Eddie\n",
      "P. Terrero\n",
      "125 Lbs\n",
      "D. Franko $5,000 L\n"
     ]
    }
   ],
   "source": [
    "articles = driver.find_elements_by_css_selector('.tabContentWrap')\n",
    "print(articles[0].text)"
   ]
  },
  {
   "cell_type": "code",
   "execution_count": 176,
   "metadata": {},
   "outputs": [
    {
     "data": {
      "text/plain": [
       "'C'"
      ]
     },
     "execution_count": 176,
     "metadata": {},
     "output_type": "execute_result"
    }
   ],
   "source": [
    "articles[0].text"
   ]
  },
  {
   "cell_type": "code",
   "execution_count": null,
   "metadata": {},
   "outputs": [],
   "source": []
  },
  {
   "cell_type": "code",
   "execution_count": null,
   "metadata": {},
   "outputs": [],
   "source": []
  },
  {
   "cell_type": "code",
   "execution_count": null,
   "metadata": {},
   "outputs": [],
   "source": [
    "driver.close()"
   ]
  }
 ],
 "metadata": {
  "kernelspec": {
   "display_name": "Python 3",
   "language": "python",
   "name": "python3"
  },
  "language_info": {
   "codemirror_mode": {
    "name": "ipython",
    "version": 3
   },
   "file_extension": ".py",
   "mimetype": "text/x-python",
   "name": "python",
   "nbconvert_exporter": "python",
   "pygments_lexer": "ipython3",
   "version": "3.6.3"
  }
 },
 "nbformat": 4,
 "nbformat_minor": 2
}
