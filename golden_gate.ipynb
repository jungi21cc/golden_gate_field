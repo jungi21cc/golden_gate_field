{
 "cells": [
  {
   "cell_type": "markdown",
   "metadata": {},
   "source": [
    "<img src=\"grandstand.jpg\">"
   ]
  },
  {
   "cell_type": "markdown",
   "metadata": {},
   "source": [
    "# Risk Portfolio Management Program : Golden Gate Fields"
   ]
  },
  {
   "cell_type": "markdown",
   "metadata": {},
   "source": [
    "# Stage 1\n",
    "## - Data Mining"
   ]
  },
  {
   "cell_type": "code",
   "execution_count": 2,
   "metadata": {},
   "outputs": [],
   "source": [
    "from IPython.display import display\n",
    "import numpy as np\n",
    "import matplotlib.pyplot as plt\n",
    "import pandas as pd\n",
    "import seaborn as sns\n",
    "import lightgbm as lgb\n",
    "from sklearn.decomposition import PCA\n",
    "from sklearn.cluster import DBSCAN\n",
    "from sklearn.cluster import MiniBatchKMeans\n",
    "from sklearn.model_selection import train_test_split\n",
    "\n",
    "from selenium import webdriver\n",
    "\n",
    "from sklearn import metrics\n",
    "from sklearn.preprocessing import StandardScaler\n",
    "from sklearn.preprocessing import Normalizer\n",
    "\n",
    "%matplotlib inline\n",
    "\n",
    "import warnings\n",
    "warnings.filterwarnings(\"ignore\")"
   ]
  },
  {
   "cell_type": "markdown",
   "metadata": {},
   "source": [
    "# scraping from Iframe"
   ]
  },
  {
   "cell_type": "code",
   "execution_count": 374,
   "metadata": {},
   "outputs": [],
   "source": [
    "driver =  webdriver.PhantomJS()    \n",
    "driver.get(\"http://www.drf.com/race-entries/track/GG/country/USA/date/04-15-2018?header=N\")"
   ]
  },
  {
   "cell_type": "code",
   "execution_count": 417,
   "metadata": {},
   "outputs": [
    {
     "name": "stdout",
     "output_type": "stream",
     "text": [
      "Sunday, April 15, 2018\n",
      "...\n",
      "\n",
      "Golden Gate Fields\n",
      "Rain Showers Likely Precip: 40% High: 59°F | Low: 47°F\n",
      "...\n",
      "\n",
      "race1 track info\n",
      "Race 1 Post: 12:15 PM PT All Weather Track\n",
      "BET NOW!\n",
      "+ GET PP's\n",
      "\n",
      "race2 track info\n",
      "Race 2 Post: 12:50 PM PT All Weather Track\n",
      "BET NOW!\n",
      "+ GET PP's\n",
      "...\n",
      "\n",
      "race1 info\n",
      "1 Mile | Open | 3 Year Olds And Up | MAIDEN CLAIMING : $5,000 | PURSE: $7,000\n",
      "$1 Exacta / $0.50 Trifecta / $1 Superfecta (.10 min) $2 Rolling Double $1 Pick 3 (Races 1-2-3) / $0.50 Early Pick 5 (Races 1-2-3-4-5)\n",
      "\n",
      "race2 info\n",
      "1 Mile | Open | 3 Year Olds And Up | CLAIMING : $3,200 | PURSE: $8,000\n",
      "$1 Exacta / $0.50 Trifecta / $1 Superfecta (.10 min) $2 Rolling Double / $1 Pick 3 (Races 2-3-4) $0.50 Pick 4 (Races 2-3-4-5)\n",
      "\n",
      "race10 info\n",
      "1 Mile | Fillies and Mares | 3 Year Olds And Up | CLAIMING : $4,000 | PURSE: $9,000\n",
      "$1 Exacta / $0.50 Trifecta / $1 Superfecta (.10 min)) $1 Rolling Super High Five\n"
     ]
    }
   ],
   "source": [
    "date = driver.find_elements_by_css_selector('.entriesDtlsHead')\n",
    "print(date[0].text)\n",
    "print(\"...\")\n",
    "print()\n",
    "weather = driver.find_elements_by_css_selector('.entriesDtlsLeft')\n",
    "print(weather[0].text)\n",
    "print(\"...\")\n",
    "print()\n",
    "info1 = driver.find_elements_by_css_selector('.entriesRaceHeader')\n",
    "print('race1 track info')\n",
    "print(info1[0].text)\n",
    "print()\n",
    "print('race2 track info')\n",
    "print(info1[1].text)\n",
    "print(\"...\")\n",
    "print()\n",
    "info2 = driver.find_elements_by_css_selector('.entriesRaceDisc')\n",
    "print('race1 info')\n",
    "print(info2[0].text)\n",
    "print()\n",
    "print('race2 info')\n",
    "print(info2[1].text)\n",
    "print()\n",
    "print('race10 info')\n",
    "print(info2[9].text)"
   ]
  },
  {
   "cell_type": "code",
   "execution_count": 400,
   "metadata": {},
   "outputs": [
    {
     "name": "stdout",
     "output_type": "stream",
     "text": [
      "race1 columns\n",
      "# PP ODDS HORSE\n",
      "\n",
      "(Last 3 Beyers)\n",
      "JOCKEY\n",
      "Weight\n",
      "TRAINER CLAIM $ MED.\n",
      "\n",
      "race2 columns\n",
      "# PP ODDS HORSE\n",
      "\n",
      "(Last 3 Beyers)\n",
      "JOCKEY\n",
      "Weight\n",
      "TRAINER CLAIM $ MED.\n",
      "\n",
      "race10 columns\n",
      "# PP ODDS HORSE\n",
      "\n",
      "(Last 3 Beyers)\n",
      "JOCKEY\n",
      "Weight\n",
      "TRAINER CLAIM $ MED.\n"
     ]
    }
   ],
   "source": [
    "head = driver.find_elements_by_css_selector('.headRow')\n",
    "print('race1 columns')\n",
    "print(head[0].text)\n",
    "print()\n",
    "print('race2 columns')\n",
    "print(head[1].text)\n",
    "print()\n",
    "print('race10 columns')\n",
    "print(head[9].text)"
   ]
  },
  {
   "cell_type": "code",
   "execution_count": 408,
   "metadata": {},
   "outputs": [
    {
     "name": "stdout",
     "output_type": "stream",
     "text": [
      "23\n",
      "race1 horse\n",
      "1 1\n",
      "ML 15-1\n",
      "Tailored\n",
      "C. Herrera\n",
      "125 Lbs\n",
      "J. Aguilar $5,000 L\n",
      "2 2\n",
      "ML 2-1\n",
      "Call Me Soul\n",
      "F. Alvarado\n",
      "125 Lbs\n",
      "S. Ledezma $5,000 L\n",
      "3 3\n",
      "ML 7-5\n",
      "Capes Hot Rocket\n",
      "C. Martinez\n",
      "125 Lbs\n",
      "S. Calvario $5,000 L\n",
      "4 4\n",
      "ML 3-1\n",
      "He's Got Cause\n",
      "J. Couton\n",
      "125 Lbs\n",
      "L. Powell $5,000 FTL\n",
      "5 5\n",
      "ML 15-1\n",
      "Dorrington\n",
      "H. Herrera\n",
      "125 Lbs\n",
      "J. Bautista $5,000 L\n",
      "6 6\n",
      "ML 10-1\n",
      "Duke of Eddie\n",
      "P. Terrero\n",
      "125 Lbs\n",
      "D. Franko $5,000 L\n",
      "\n",
      "race2 horse\n",
      "1 1\n",
      "ML 8-1\n",
      "Jens de Ville\n",
      "P. Flores\n",
      "123 Lbs\n",
      "A. Lockett $3,200 L\n",
      "2 2\n",
      "ML 8-5\n",
      "Spanish Eyes\n",
      "F. Alvarado\n",
      "123 Lbs\n",
      "I. Tamayo $3,200 L\n",
      "3 3\n",
      "ML 20-1\n",
      "Mr Larson\n",
      "F. Peterson\n",
      "113 Lbs\n",
      "J. Beach-Orr $3,200 L\n",
      "4 4\n",
      "ML 10-1\n",
      "On Fire\n",
      "P. Terrero\n",
      "123 Lbs\n",
      "L. Martinez $3,200 L\n",
      "5 5\n",
      "ML 6-1\n",
      "Lucky Shoes to Win\n",
      "J. Velazquez\n",
      "123 Lbs\n",
      "Q. Miller $3,200 L\n",
      "6 6\n",
      "ML 7-5\n",
      "Dizzy Dancer\n",
      "I. Orozco\n",
      "123 Lbs\n",
      "V. Trujillo $3,200 L\n",
      "\n",
      "race10 horse\n",
      "1 1\n",
      "ML 8-1\n",
      "Liar's Smoker\n",
      "H. Martinez\n",
      "125 Lbs\n",
      "J. Hollendorfer $4,000 L\n",
      "2 2\n",
      "ML 1-1\n",
      "Foreverinsummer\n",
      "W. Antongeorgi III\n",
      "125 Lbs\n",
      "J. Hollendorfer $4,000 L\n",
      "3 3\n",
      "ML 8-1\n",
      "Life No Parole\n",
      "S. Amador\n",
      "125 Lbs\n",
      "T. Bellasis $4,000 L\n",
      "4 4\n",
      "ML 7-2\n",
      "Jersey Buns\n",
      "I. Orozco\n",
      "125 Lbs\n",
      "T. McCanna $4,000 L\n",
      "5 5\n",
      "ML 5-1\n",
      "American Pegasus\n",
      "P. Terrero\n",
      "125 Lbs\n",
      "L. Rivera $4,000 L\n",
      "6 6\n",
      "ML 8-1\n",
      "Glamsquad\n",
      "F. Alvarado\n",
      "125 Lbs\n",
      "W. Morey $4,000 L\n",
      "7 7\n",
      "ML 20-1\n",
      "Ladiesablazin\n",
      "F. Peterson\n",
      "115 Lbs\n",
      "M. Troy $4,000 L\n",
      "\n"
     ]
    }
   ],
   "source": [
    "horse = driver.find_elements_by_css_selector('.dataTable')\n",
    "print(len(horse))\n",
    "print('race1 horse')\n",
    "print(horse[1].text)\n",
    "print()\n",
    "print('race2 horse')\n",
    "print(horse[3].text)\n",
    "print()\n",
    "print('race10 horse')\n",
    "print(horse[22].text)"
   ]
  },
  {
   "cell_type": "code",
   "execution_count": null,
   "metadata": {},
   "outputs": [],
   "source": []
  },
  {
   "cell_type": "code",
   "execution_count": null,
   "metadata": {},
   "outputs": [],
   "source": []
  },
  {
   "cell_type": "code",
   "execution_count": null,
   "metadata": {},
   "outputs": [],
   "source": []
  },
  {
   "cell_type": "code",
   "execution_count": null,
   "metadata": {},
   "outputs": [],
   "source": []
  },
  {
   "cell_type": "code",
   "execution_count": null,
   "metadata": {},
   "outputs": [],
   "source": []
  },
  {
   "cell_type": "code",
   "execution_count": null,
   "metadata": {},
   "outputs": [],
   "source": []
  },
  {
   "cell_type": "code",
   "execution_count": null,
   "metadata": {},
   "outputs": [],
   "source": [
    "driver.close()"
   ]
  },
  {
   "cell_type": "markdown",
   "metadata": {},
   "source": [
    "# Stage 2\n",
    "## - Modeling"
   ]
  },
  {
   "cell_type": "code",
   "execution_count": null,
   "metadata": {},
   "outputs": [],
   "source": []
  }
 ],
 "metadata": {
  "kernelspec": {
   "display_name": "Python 3",
   "language": "python",
   "name": "python3"
  },
  "language_info": {
   "codemirror_mode": {
    "name": "ipython",
    "version": 3
   },
   "file_extension": ".py",
   "mimetype": "text/x-python",
   "name": "python",
   "nbconvert_exporter": "python",
   "pygments_lexer": "ipython3",
   "version": "3.6.3"
  }
 },
 "nbformat": 4,
 "nbformat_minor": 2
}
